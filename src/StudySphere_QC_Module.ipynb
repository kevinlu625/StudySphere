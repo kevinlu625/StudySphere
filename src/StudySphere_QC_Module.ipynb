{
 "cells": [
  {
   "cell_type": "markdown",
   "id": "2bfd2774",
   "metadata": {},
   "source": [
    "# StudySphere Quality Control (QC) Module\n",
    "This notebook showcases the Quality Control (QC) module for StudySphere. It includes dummy data to illustrate QC mechanisms for filtering and ranking user-generated content.\n",
    "\n",
    "### Module Objective:\n",
    "The QC module aims to ensure that only high-quality content is retained on the platform by:\n",
    "- Removing low-quality or downvoted questions\n",
    "- Highlighting the top-rated answers\n",
    "- Ranking questions by popularity\n",
    "- Banning users who consistently contribute low-quality content\n"
   ]
  },
  {
   "cell_type": "markdown",
   "id": "4599a602",
   "metadata": {},
   "source": [
    "## Input Data Structure\n",
    "### Questions Data\n",
    "The platform collects questions from users in the following JSON format:\n",
    "- **Username**: Unique username of the user posting the question.\n",
    "- **Question Type**: Type of question (e.g., Multiple Choice, Short Answer).\n",
    "- **Question**: The text of the question.\n",
    "- **QuestionId**: Unique identifier for the question.\n",
    "- **Answer**: Suggested answer provided by the user.\n",
    "\n",
    "Example:\n",
    "```json\n",
    "[\n",
    "  {\"Username\": \"User1\", \"Question Type\": \"Multiple Choice\", \"Question\": \"What elements are in the periodic table?\", \"QuestionId\": 1, \"Answer\": \"Carbon, Mitochondria, Nucleus\"},\n",
    "  {\"Username\": \"User2\", \"Question Type\": \"Short Answer\", \"Question\": \"What is the mitochondria?\", \"QuestionId\": 2, \"Answer\": \"The powerhouse of the cell.\"}\n",
    "]\n",
    "```\n",
    "\n",
    "### Voting Data Structure\n",
    "- **Question Votes**: JSON format where each vote is linked to a question.\n",
    "  - `Upvote` is `True` for upvotes and `False` otherwise.\n",
    "\n",
    "Example:\n",
    "```json\n",
    "[{\"Username\": \"User5\", \"QuestionId\": 3, \"Upvote\": True}, {\"Username\": \"User6\", \"QuestionId\": 2, \"Upvote\": False}]\n",
    "```\n",
    "\n",
    "- **Answer Votes**: JSON format where users vote on a specific answer to a question.\n",
    "\n",
    "Example:\n",
    "```json\n",
    "[{\"Username\": \"User7\", \"QuestionId\": 3, \"Answer\": \"Quick Sort\"}]\n",
    "```"
   ]
  },
  {
   "cell_type": "markdown",
   "id": "ecaf0c28",
   "metadata": {},
   "source": [
    "## Step 1: Define Data Structures\n",
    "We will separate the data into **questions** and **votes**, and later join them using functions."
   ]
  },
  {
   "cell_type": "code",
   "execution_count": 2,
   "id": "5397a5bc",
   "metadata": {},
   "outputs": [
    {
     "name": "stdout",
     "output_type": "stream",
     "text": [
      "Questions Data:\n",
      "  Username  QuestionId     QuestionType  \\\n",
      "0    User1           1  Multiple Choice   \n",
      "1    User2           2     Short Answer   \n",
      "2    User3           3     Short Answer   \n",
      "3    User4           4     Short Answer   \n",
      "\n",
      "                                     Question                       Answer  \n",
      "0    What elements are in the periodic table?     Carbon, Oxygen, Nitrogen  \n",
      "1                   What is the mitochondria?  The powerhouse of the cell.  \n",
      "2  What algorithm can be used to sort a list?                   Quick Sort  \n",
      "3  What algorithm can be used to sort a list?                   Merge Sort  \n",
      "Votes Data:\n",
      "  Username  QuestionId  Upvote\n",
      "0    User5           1    True\n",
      "1    User6           2   False\n",
      "2    User7           3    True\n",
      "3    User8           4   False\n",
      "4    User9           3    True\n",
      "5   User10           4   False\n"
     ]
    }
   ],
   "source": [
    "\n",
    "import pandas as pd\n",
    "\n",
    "# Define questions data\n",
    "questions_data = [\n",
    "    {\"Username\": \"User1\", \"QuestionId\": 1, \"QuestionType\": \"Multiple Choice\", \"Question\": \"What elements are in the periodic table?\", \"Answer\": \"Carbon, Oxygen, Nitrogen\"},\n",
    "    {\"Username\": \"User2\", \"QuestionId\": 2, \"QuestionType\": \"Short Answer\", \"Question\": \"What is the mitochondria?\", \"Answer\": \"The powerhouse of the cell.\"},\n",
    "    {\"Username\": \"User3\", \"QuestionId\": 3, \"QuestionType\": \"Short Answer\", \"Question\": \"What algorithm can be used to sort a list?\", \"Answer\": \"Quick Sort\"},\n",
    "    {\"Username\": \"User4\", \"QuestionId\": 4, \"QuestionType\": \"Short Answer\", \"Question\": \"What algorithm can be used to sort a list?\", \"Answer\": \"Merge Sort\"}\n",
    "]\n",
    "\n",
    "# Define voting data\n",
    "question_votes = [\n",
    "    {\"Username\": \"User5\", \"QuestionId\": 1, \"Upvote\": True},\n",
    "    {\"Username\": \"User6\", \"QuestionId\": 2, \"Upvote\": False},\n",
    "    {\"Username\": \"User7\", \"QuestionId\": 3, \"Upvote\": True},\n",
    "    {\"Username\": \"User8\", \"QuestionId\": 4, \"Upvote\": False},\n",
    "    {\"Username\": \"User9\", \"QuestionId\": 3, \"Upvote\": True},\n",
    "    {\"Username\": \"User10\", \"QuestionId\": 4, \"Upvote\": False},\n",
    "]\n",
    "\n",
    "# Convert to DataFrames\n",
    "questions_df = pd.DataFrame(questions_data)\n",
    "votes_df = pd.DataFrame(question_votes)\n",
    "\n",
    "# Display questions and votes\n",
    "print(\"Questions Data:\")\n",
    "print(questions_df)\n",
    "print(\"Votes Data:\")\n",
    "print(votes_df)\n"
   ]
  },
  {
   "cell_type": "markdown",
   "id": "c9271b09",
   "metadata": {},
   "source": [
    "## Step 2: Define Function to Aggregate Votes\n",
    "We will calculate upvotes and downvotes for each question by aggregating the votes data and joining it with the questions data."
   ]
  },
  {
   "cell_type": "code",
   "execution_count": 3,
   "id": "5fd6c483",
   "metadata": {},
   "outputs": [
    {
     "name": "stdout",
     "output_type": "stream",
     "text": [
      "Questions with Votes:\n",
      "  Username  QuestionId     QuestionType  \\\n",
      "0    User1           1  Multiple Choice   \n",
      "1    User2           2     Short Answer   \n",
      "2    User3           3     Short Answer   \n",
      "3    User4           4     Short Answer   \n",
      "\n",
      "                                     Question                       Answer  \\\n",
      "0    What elements are in the periodic table?     Carbon, Oxygen, Nitrogen   \n",
      "1                   What is the mitochondria?  The powerhouse of the cell.   \n",
      "2  What algorithm can be used to sort a list?                   Quick Sort   \n",
      "3  What algorithm can be used to sort a list?                   Merge Sort   \n",
      "\n",
      "   Upvotes  Downvotes  \n",
      "0        1          0  \n",
      "1        0          1  \n",
      "2        2          0  \n",
      "3        0          2  \n"
     ]
    },
    {
     "name": "stderr",
     "output_type": "stream",
     "text": [
      "/tmp/ipykernel_135648/1996762028.py:4: DeprecationWarning: DataFrameGroupBy.apply operated on the grouping columns. This behavior is deprecated, and in a future version of pandas the grouping columns will be excluded from the operation. Either pass `include_groups=False` to exclude the groupings or explicitly select the grouping columns after groupby to silence this warning.\n",
      "  votes_aggregated = votes_df.groupby(\"QuestionId\").apply(\n"
     ]
    }
   ],
   "source": [
    "\n",
    "# Function to process votes and join with questions\n",
    "def process_votes(questions_df, votes_df):\n",
    "    # Aggregate votes: Count upvotes and downvotes per question\n",
    "    votes_aggregated = votes_df.groupby(\"QuestionId\").apply(\n",
    "        lambda x: pd.Series({\n",
    "            \"Upvotes\": sum(x[\"Upvote\"]),\n",
    "            \"Downvotes\": len(x) - sum(x[\"Upvote\"])\n",
    "        })\n",
    "    ).reset_index()\n",
    "    \n",
    "    # Merge aggregated votes with questions\n",
    "    merged_df = pd.merge(questions_df, votes_aggregated, on=\"QuestionId\", how=\"left\")\n",
    "    \n",
    "    # Fill NaN values with 0 for questions without any votes\n",
    "    merged_df.fillna({\"Upvotes\": 0, \"Downvotes\": 0}, inplace=True)\n",
    "    \n",
    "    return merged_df\n",
    "\n",
    "# Apply the function\n",
    "questions_with_votes = process_votes(questions_df, votes_df)\n",
    "\n",
    "# Display merged DataFrame\n",
    "print(\"Questions with Votes:\")\n",
    "print(questions_with_votes)\n"
   ]
  },
  {
   "cell_type": "markdown",
   "id": "769a7d0c",
   "metadata": {},
   "source": [
    "## Step 3: Implementing Quality Control Rules\n",
    "### QC Rule 1: Display Top 2-3 Answers\n",
    "This function ranks answers based on the number of upvotes, helping to display the top answers prominently.\n",
    "\n",
    "### QC Rule 2: Rank Questions by Votes\n",
    "Questions are sorted by upvotes to prioritize popular and high-quality questions.\n",
    "\n",
    "### QC Rule 3: Remove Questions with Too Many Downvotes\n",
    "Questions with a specified downvote threshold are flagged for removal.\n",
    "\n",
    "### QC Rule 4: Ban Users Who Post Irrelevant Questions\n",
    "Users with repeated downvoted questions are flagged for potential banning.\n",
    "\n"
   ]
  },
  {
   "cell_type": "code",
   "execution_count": 9,
   "id": "57a7e1e6",
   "metadata": {},
   "outputs": [
    {
     "name": "stdout",
     "output_type": "stream",
     "text": [
      "Dataset 'questions_with_votes' loaded successfully.\n",
      "# QC Rule 1: Display Top 2-3 Answers\n",
      "# ----------------------------------\n",
      "# This function calculates the top answers based on upvotes.\n",
      "\n",
      "Top 2-3 Answers Based on Upvotes:\n",
      "   QuestionId                       Answer  Upvotes\n",
      "2           3                   Quick Sort        2\n",
      "0           1     Carbon, Oxygen, Nitrogen        1\n",
      "1           2  The powerhouse of the cell.        0\n"
     ]
    }
   ],
   "source": [
    "# Step 1: Ensure questions_with_votes dataset exists\n",
    "if 'questions_with_votes' in locals():\n",
    "    print(\"Dataset 'questions_with_votes' loaded successfully.\")\n",
    "else:\n",
    "    raise ValueError(\"Dataset 'questions_with_votes' is not defined. Ensure it is processed correctly before running QC rules.\")\n",
    "\n",
    "# QC Rule 1: Display Top 2-3 Answers\n",
    "print(\"# QC Rule 1: Display Top 2-3 Answers\\n\"\n",
    "      \"# ----------------------------------\\n\"\n",
    "      \"# This function calculates the top answers based on upvotes.\\n\")\n",
    "\n",
    "# Function to calculate and display top answers\n",
    "def display_top_answers(df, top_n=3):\n",
    "    \"\"\"\n",
    "    Display top N answers based on the number of upvotes.\n",
    "    :param df: DataFrame containing questions and votes.\n",
    "    :param top_n: Number of top answers to display.\n",
    "    :return: DataFrame of top N answers.\n",
    "    \"\"\"\n",
    "    return df.sort_values(by='Upvotes', ascending=False).head(top_n)\n",
    "\n",
    "# Apply the function\n",
    "top_answers = display_top_answers(questions_with_votes)\n",
    "\n",
    "# Display the results\n",
    "print(\"Top 2-3 Answers Based on Upvotes:\")\n",
    "print(top_answers[['QuestionId', 'Answer', 'Upvotes']])\n",
    "\n"
   ]
  },
  {
   "cell_type": "code",
   "execution_count": 10,
   "id": "53bfa52a",
   "metadata": {},
   "outputs": [
    {
     "name": "stdout",
     "output_type": "stream",
     "text": [
      "\n",
      "# QC Rule 2: Rank Questions by Votes\n",
      "# -----------------------------------\n",
      "# This ranks all questions based on their vote score (Upvotes - Downvotes).\n",
      "\n",
      "Ranked Questions by Vote Score:\n",
      "   QuestionId                                    Question  VoteScore\n",
      "2           3  What algorithm can be used to sort a list?          2\n",
      "0           1    What elements are in the periodic table?          1\n",
      "1           2                   What is the mitochondria?         -1\n",
      "3           4  What algorithm can be used to sort a list?         -2\n"
     ]
    }
   ],
   "source": [
    "\n",
    "# QC Rule 2: Rank Questions by Votes\n",
    "print(\"\\n# QC Rule 2: Rank Questions by Votes\\n\"\n",
    "      \"# -----------------------------------\\n\"\n",
    "      \"# This ranks all questions based on their vote score (Upvotes - Downvotes).\\n\")\n",
    "\n",
    "# Function to rank questions by votes\n",
    "def rank_questions_by_votes(df):\n",
    "    \"\"\"\n",
    "    Rank questions based on their vote score (Upvotes - Downvotes).\n",
    "    :param df: DataFrame containing questions and votes.\n",
    "    :return: DataFrame of ranked questions.\n",
    "    \"\"\"\n",
    "    df['VoteScore'] = df['Upvotes'] - df['Downvotes']\n",
    "    return df.sort_values(by='VoteScore', ascending=False)\n",
    "\n",
    "# Apply the function\n",
    "ranked_questions = rank_questions_by_votes(questions_with_votes)\n",
    "\n",
    "# Display the results\n",
    "print(\"Ranked Questions by Vote Score:\")\n",
    "print(ranked_questions[['QuestionId', 'Question', 'VoteScore']])"
   ]
  },
  {
   "cell_type": "code",
   "execution_count": 11,
   "id": "ff7b42d7",
   "metadata": {},
   "outputs": [
    {
     "name": "stdout",
     "output_type": "stream",
     "text": [
      "\n",
      "# QC Rule 3: Remove Questions with Too Many Downvotes\n",
      "# ----------------------------------------------------\n",
      "# Questions with downvotes exceeding the threshold are flagged for removal.\n",
      "\n",
      "Questions Flagged for Removal:\n",
      "   QuestionId                                    Question  Downvotes  \\\n",
      "0           1    What elements are in the periodic table?          0   \n",
      "1           2                   What is the mitochondria?          1   \n",
      "2           3  What algorithm can be used to sort a list?          0   \n",
      "3           4  What algorithm can be used to sort a list?          2   \n",
      "\n",
      "   FlaggedForRemoval  \n",
      "0              False  \n",
      "1              False  \n",
      "2              False  \n",
      "3               True  \n"
     ]
    }
   ],
   "source": [
    "\n",
    "# QC Rule 3: Remove Questions with Too Many Downvotes\n",
    "print(\"\\n# QC Rule 3: Remove Questions with Too Many Downvotes\\n\"\n",
    "      \"# ----------------------------------------------------\\n\"\n",
    "      \"# Questions with downvotes exceeding the threshold are flagged for removal.\\n\")\n",
    "\n",
    "# Function to flag questions for removal\n",
    "def flag_questions_for_removal(df, threshold=2):\n",
    "    \"\"\"\n",
    "    Flag questions with too many downvotes for removal.\n",
    "    :param df: DataFrame containing questions and votes.\n",
    "    :param threshold: Downvote threshold for flagging questions.\n",
    "    :return: DataFrame with a new column 'FlaggedForRemoval'.\n",
    "    \"\"\"\n",
    "    df['FlaggedForRemoval'] = df['Downvotes'] >= threshold\n",
    "    return df\n",
    "\n",
    "# Apply the function\n",
    "questions_with_removal_flags = flag_questions_for_removal(questions_with_votes)\n",
    "\n",
    "# Display the results\n",
    "print(\"Questions Flagged for Removal:\")\n",
    "print(questions_with_removal_flags[['QuestionId', 'Question', 'Downvotes', 'FlaggedForRemoval']])\n"
   ]
  },
  {
   "cell_type": "code",
   "execution_count": 14,
   "id": "71b522ac",
   "metadata": {},
   "outputs": [
    {
     "name": "stdout",
     "output_type": "stream",
     "text": [
      "\n",
      "# QC Rule 4: Ban Users Who Post Irrelevant Questions\n",
      "# -----------------------------------------------------\n",
      "# Users with multiple flagged questions are identified for potential banning.\n",
      "\n",
      "Users Flagged for Potential Ban:\n",
      "  Username  FlaggedQuestionsCount  BanUser\n",
      "0    User4                      1     True\n"
     ]
    }
   ],
   "source": [
    "\n",
    "# QC Rule 4: Ban Users Who Post Irrelevant Questions\n",
    "print(\"\\n# QC Rule 4: Ban Users Who Post Irrelevant Questions\\n\"\n",
    "      \"# -----------------------------------------------------\\n\"\n",
    "      \"# Users with multiple flagged questions are identified for potential banning.\\n\")\n",
    "\n",
    "# Function to identify users for potential banning\n",
    "def identify_users_for_banning(df, user_threshold=1):\n",
    "    \"\"\"\n",
    "    Identify users with multiple flagged questions for potential banning.\n",
    "    :param df: DataFrame containing flagged questions and user information.\n",
    "    :param user_threshold: Number of flagged questions required to ban a user.\n",
    "    :return: DataFrame of users flagged for potential banning.\n",
    "    \"\"\"\n",
    "    flagged_questions = df[df['FlaggedForRemoval']]\n",
    "    user_flags = flagged_questions.groupby('Username').size().reset_index(name='FlaggedQuestionsCount')\n",
    "    user_flags['BanUser'] = user_flags['FlaggedQuestionsCount'] >= user_threshold\n",
    "    return user_flags\n",
    "\n",
    "# Apply the function\n",
    "users_flagged_for_banning = identify_users_for_banning(questions_with_removal_flags)\n",
    "\n",
    "# Display the results\n",
    "print(\"Users Flagged for Potential Ban:\")\n",
    "print(users_flagged_for_banning)"
   ]
  }
 ],
 "metadata": {
  "kernelspec": {
   "display_name": "clam-amish",
   "language": "python",
   "name": "python3"
  },
  "language_info": {
   "codemirror_mode": {
    "name": "ipython",
    "version": 3
   },
   "file_extension": ".py",
   "mimetype": "text/x-python",
   "name": "python",
   "nbconvert_exporter": "python",
   "pygments_lexer": "ipython3",
   "version": "3.11.10"
  }
 },
 "nbformat": 4,
 "nbformat_minor": 5
}
