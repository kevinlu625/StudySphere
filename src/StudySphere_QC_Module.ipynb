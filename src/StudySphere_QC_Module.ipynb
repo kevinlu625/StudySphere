{
 "cells": [
  {
   "cell_type": "markdown",
   "id": "51f44fb1",
   "metadata": {},
   "source": [
    "# StudySphere Quality Control (QC) Module\n",
    "This notebook showcases the Quality Control (QC) module for StudySphere. It includes dummy data to illustrate QC mechanisms for filtering and ranking user-generated content.\n",
    "\n",
    "### Module Objective:\n",
    "The QC module aims to ensure that only high-quality content is retained on the platform by:\n",
    "- Removing low-quality or downvoted questions\n",
    "- Highlighting the top-rated answers\n",
    "- Ranking questions by popularity\n",
    "- Banning users who consistently contribute low-quality content\n"
   ]
  },
  {
   "cell_type": "markdown",
   "id": "2d4f5a4e",
   "metadata": {},
   "source": [
    "## Input Data Structure\n",
    "### Questions Data\n",
    "The platform collects questions from users in the following JSON format:\n",
    "- **Username**: Unique username of the user posting the question.\n",
    "- **Question Type**: Type of question (e.g., Multiple Choice, Short Answer).\n",
    "- **Question**: The text of the question.\n",
    "- **QuestionId**: Unique identifier for the question.\n",
    "- **Answer**: Suggested answer provided by the user.\n",
    "\n",
    "Example:\n",
    "```json\n",
    "[\n",
    "  {\"Username\": \"User1\", \"Question Type\": \"Multiple Choice\", \"Question\": \"What elements are in the periodic table?\", \"QuestionId\": 1, \"Answer\": \"Carbon, Mitochondria, Nucleus\"},\n",
    "  {\"Username\": \"User2\", \"Question Type\": \"Short Answer\", \"Question\": \"What is the mitochondria?\", \"QuestionId\": 2, \"Answer\": \"The powerhouse of the cell.\"}\n",
    "]\n",
    "```\n",
    "\n",
    "### Voting Data Structure\n",
    "- **Question Votes**: JSON format where each vote is linked to a question.\n",
    "  - `Upvote` is `True` for upvotes and `False` otherwise.\n",
    "\n",
    "Example:\n",
    "```json\n",
    "[{\"Username\": \"User5\", \"QuestionId\": 3, \"Upvote\": True}, {\"Username\": \"User6\", \"QuestionId\": 2, \"Upvote\": False}]\n",
    "```\n",
    "\n",
    "- **Answer Votes**: JSON format where users vote on a specific answer to a question.\n",
    "\n",
    "Example:\n",
    "```json\n",
    "[{\"Username\": \"User7\", \"QuestionId\": 3, \"Answer\": \"Quick Sort\"}]\n",
    "```"
   ]
  },
  {
   "cell_type": "markdown",
   "id": "b36db30e",
   "metadata": {},
   "source": [
    "## Step 1: Import Libraries and Define Dummy Data\n",
    "Let's start by importing necessary libraries and creating dummy data based on the data structure defined above."
   ]
  },
  {
   "cell_type": "code",
   "execution_count": null,
   "id": "71a45772",
   "metadata": {},
   "outputs": [],
   "source": [
    "\n",
    "import pandas as pd\n",
    "\n",
    "# Sample data of questions submitted by users\n",
    "questions_data = [\n",
    "    {\"Username\": \"User1\", \"QuestionId\": 1, \"QuestionType\": \"Multiple Choice\", \"Question\": \"What elements are in the periodic table?\", \"Upvotes\": 3, \"Downvotes\": 2, \"Answer\": \"Carbon, Oxygen, Nitrogen\"},\n",
    "    {\"Username\": \"User2\", \"QuestionId\": 2, \"QuestionType\": \"Short Answer\", \"Question\": \"What is the mitochondria?\", \"Upvotes\": 1, \"Downvotes\": 4, \"Answer\": \"The powerhouse of the cell.\"},\n",
    "    {\"Username\": \"User3\", \"QuestionId\": 3, \"QuestionType\": \"Short Answer\", \"Question\": \"What algorithm can be used to sort a list?\", \"Upvotes\": 5, \"Downvotes\": 0, \"Answer\": \"Quick Sort\"},\n",
    "    {\"Username\": \"User4\", \"QuestionId\": 4, \"QuestionType\": \"Short Answer\", \"Question\": \"What algorithm can be used to sort a list?\", \"Upvotes\": 2, \"Downvotes\": 5, \"Answer\": \"Merge Sort\"}\n",
    "]\n",
    "\n",
    "# Convert to DataFrame\n",
    "questions_df = pd.DataFrame(questions_data)\n",
    "\n",
    "# Display sample input data for QC\n",
    "questions_df\n"
   ]
  },
  {
   "cell_type": "markdown",
   "id": "07591f4c",
   "metadata": {},
   "source": [
    "## Step 2: Implementing Quality Control Rules\n",
    "### QC Rule 1: Display Top 2-3 Answers\n",
    "This function ranks answers based on the number of upvotes, helping to display the top answers prominently.\n",
    "\n",
    "### QC Rule 2: Rank Questions by Votes\n",
    "Questions are sorted by upvotes to prioritize popular and high-quality questions.\n",
    "\n",
    "### QC Rule 3: Remove Questions with Too Many Downvotes\n",
    "Questions with a specified downvote threshold are flagged for removal.\n",
    "\n",
    "### QC Rule 4: Ban Users Who Post Irrelevant Questions\n",
    "Users with repeated downvoted questions are flagged for potential banning.\n",
    "\n"
   ]
  },
  {
   "cell_type": "code",
   "execution_count": null,
   "id": "54bb051b",
   "metadata": {},
   "outputs": [],
   "source": [
    "\n",
    "# Define QC thresholds\n",
    "downvote_threshold = 3  # Threshold for flagging a question as low-quality\n",
    "user_ban_threshold = 2  # Threshold for banning users with repeated low-quality content\n",
    "\n",
    "# Step 2a: Function to determine if a question should be flagged for removal\n",
    "def flag_for_removal(row):\n",
    "    return row['Downvotes'] >= downvote_threshold\n",
    "\n",
    "# Apply QC flagging for removal\n",
    "questions_df['FlaggedForRemoval'] = questions_df.apply(flag_for_removal, axis=1)\n",
    "\n",
    "# Step 2b: Aggregate user data to check for potential bans\n",
    "# Counting flagged questions per user\n",
    "user_flags = questions_df[questions_df['FlaggedForRemoval']].groupby('Username').size().reset_index(name='FlaggedQuestionsCount')\n",
    "user_flags['BanUser'] = user_flags['FlaggedQuestionsCount'] >= user_ban_threshold\n",
    "\n",
    "# Step 2c: Rank Questions by Votes and Display Top 2-3 Answers\n",
    "questions_df['VoteScore'] = questions_df['Upvotes'] - questions_df['Downvotes']\n",
    "questions_ranked = questions_df.sort_values(by='VoteScore', ascending=False)\n",
    "\n",
    "# Displaying results\n",
    "print(\"Questions flagged for removal:\n",
    "\", questions_df[['QuestionId', 'Question', 'FlaggedForRemoval']])\n",
    "print(\"\n",
    "Users flagged for potential ban:\n",
    "\", user_flags)\n",
    "print(\"\n",
    "Questions ranked by votes:\n",
    "\", questions_ranked[['QuestionId', 'Question', 'VoteScore']])\n"
   ]
  },
  {
   "cell_type": "markdown",
   "id": "0e4419b0",
   "metadata": {},
   "source": [
    "## Output Interpretation\n",
    "- **Flagged Questions**: Questions with `FlaggedForRemoval = True` are identified as low-quality content for potential removal.\n",
    "- **Flagged Users**: Users with `BanUser = True` have repeatedly submitted low-quality questions and may face restrictions.\n",
    "- **Ranked Questions**: Questions are ranked by votes to highlight popular questions.\n",
    "- **Top Answers**: Upvotes determine the prominence of answers displayed to users, with the top 2-3 answers shown by rank.\n",
    "\n",
    "These rules and aggregations help maintain a high standard of content on StudySphere through majority voting-based quality control mechanisms."
   ]
  }
 ],
 "metadata": {},
 "nbformat": 4,
 "nbformat_minor": 5
}
